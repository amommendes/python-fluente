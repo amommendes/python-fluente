{
 "cells": [
  {
   "cell_type": "markdown",
   "metadata": {},
   "source": [
    "# Dicts and Sets\n",
    "\n",
    "Both are implemented with hash tables.\n",
    "Dicts are widespread in python implementation. See the str below:"
   ]
  },
  {
   "cell_type": "code",
   "execution_count": 2,
   "metadata": {},
   "outputs": [
    {
     "data": {
      "text/plain": [
       "mappingproxy({'__repr__': <slot wrapper '__repr__' of 'str' objects>,\n",
       "              '__hash__': <slot wrapper '__hash__' of 'str' objects>,\n",
       "              '__str__': <slot wrapper '__str__' of 'str' objects>,\n",
       "              '__getattribute__': <slot wrapper '__getattribute__' of 'str' objects>,\n",
       "              '__lt__': <slot wrapper '__lt__' of 'str' objects>,\n",
       "              '__le__': <slot wrapper '__le__' of 'str' objects>,\n",
       "              '__eq__': <slot wrapper '__eq__' of 'str' objects>,\n",
       "              '__ne__': <slot wrapper '__ne__' of 'str' objects>,\n",
       "              '__gt__': <slot wrapper '__gt__' of 'str' objects>,\n",
       "              '__ge__': <slot wrapper '__ge__' of 'str' objects>,\n",
       "              '__iter__': <slot wrapper '__iter__' of 'str' objects>,\n",
       "              '__mod__': <slot wrapper '__mod__' of 'str' objects>,\n",
       "              '__rmod__': <slot wrapper '__rmod__' of 'str' objects>,\n",
       "              '__len__': <slot wrapper '__len__' of 'str' objects>,\n",
       "              '__getitem__': <slot wrapper '__getitem__' of 'str' objects>,\n",
       "              '__add__': <slot wrapper '__add__' of 'str' objects>,\n",
       "              '__mul__': <slot wrapper '__mul__' of 'str' objects>,\n",
       "              '__rmul__': <slot wrapper '__rmul__' of 'str' objects>,\n",
       "              '__contains__': <slot wrapper '__contains__' of 'str' objects>,\n",
       "              '__new__': <function str.__new__(*args, **kwargs)>,\n",
       "              'encode': <method 'encode' of 'str' objects>,\n",
       "              'replace': <method 'replace' of 'str' objects>,\n",
       "              'split': <method 'split' of 'str' objects>,\n",
       "              'rsplit': <method 'rsplit' of 'str' objects>,\n",
       "              'join': <method 'join' of 'str' objects>,\n",
       "              'capitalize': <method 'capitalize' of 'str' objects>,\n",
       "              'casefold': <method 'casefold' of 'str' objects>,\n",
       "              'title': <method 'title' of 'str' objects>,\n",
       "              'center': <method 'center' of 'str' objects>,\n",
       "              'count': <method 'count' of 'str' objects>,\n",
       "              'expandtabs': <method 'expandtabs' of 'str' objects>,\n",
       "              'find': <method 'find' of 'str' objects>,\n",
       "              'partition': <method 'partition' of 'str' objects>,\n",
       "              'index': <method 'index' of 'str' objects>,\n",
       "              'ljust': <method 'ljust' of 'str' objects>,\n",
       "              'lower': <method 'lower' of 'str' objects>,\n",
       "              'lstrip': <method 'lstrip' of 'str' objects>,\n",
       "              'rfind': <method 'rfind' of 'str' objects>,\n",
       "              'rindex': <method 'rindex' of 'str' objects>,\n",
       "              'rjust': <method 'rjust' of 'str' objects>,\n",
       "              'rstrip': <method 'rstrip' of 'str' objects>,\n",
       "              'rpartition': <method 'rpartition' of 'str' objects>,\n",
       "              'splitlines': <method 'splitlines' of 'str' objects>,\n",
       "              'strip': <method 'strip' of 'str' objects>,\n",
       "              'swapcase': <method 'swapcase' of 'str' objects>,\n",
       "              'translate': <method 'translate' of 'str' objects>,\n",
       "              'upper': <method 'upper' of 'str' objects>,\n",
       "              'startswith': <method 'startswith' of 'str' objects>,\n",
       "              'endswith': <method 'endswith' of 'str' objects>,\n",
       "              'islower': <method 'islower' of 'str' objects>,\n",
       "              'isupper': <method 'isupper' of 'str' objects>,\n",
       "              'istitle': <method 'istitle' of 'str' objects>,\n",
       "              'isspace': <method 'isspace' of 'str' objects>,\n",
       "              'isdecimal': <method 'isdecimal' of 'str' objects>,\n",
       "              'isdigit': <method 'isdigit' of 'str' objects>,\n",
       "              'isnumeric': <method 'isnumeric' of 'str' objects>,\n",
       "              'isalpha': <method 'isalpha' of 'str' objects>,\n",
       "              'isalnum': <method 'isalnum' of 'str' objects>,\n",
       "              'isidentifier': <method 'isidentifier' of 'str' objects>,\n",
       "              'isprintable': <method 'isprintable' of 'str' objects>,\n",
       "              'zfill': <method 'zfill' of 'str' objects>,\n",
       "              'format': <method 'format' of 'str' objects>,\n",
       "              'format_map': <method 'format_map' of 'str' objects>,\n",
       "              '__format__': <method '__format__' of 'str' objects>,\n",
       "              'maketrans': <staticmethod at 0x7f5f17a0c940>,\n",
       "              '__sizeof__': <method '__sizeof__' of 'str' objects>,\n",
       "              '__getnewargs__': <method '__getnewargs__' of 'str' objects>,\n",
       "              '__doc__': \"str(object='') -> str\\nstr(bytes_or_buffer[, encoding[, errors]]) -> str\\n\\nCreate a new string object from the given object. If encoding or\\nerrors is specified, then the object must expose a data buffer\\nthat will be decoded using the given encoding and error handler.\\nOtherwise, returns the result of object.__str__() (if defined)\\nor repr(object).\\nencoding defaults to sys.getdefaultencoding().\\nerrors defaults to 'strict'.\"})"
      ]
     },
     "execution_count": 2,
     "metadata": {},
     "output_type": "execute_result"
    }
   ],
   "source": [
    "str.__dict__"
   ]
  },
  {
   "cell_type": "markdown",
   "metadata": {},
   "source": [
    "### Generic types of mappings"
   ]
  },
  {
   "cell_type": "code",
   "execution_count": 9,
   "metadata": {},
   "outputs": [
    {
     "data": {
      "text/plain": [
       "True"
      ]
     },
     "execution_count": 9,
     "metadata": {},
     "output_type": "execute_result"
    }
   ],
   "source": [
    "from collections.abc import Mapping\n",
    "a  = {}\n",
    "isinstance(a,Mapping)"
   ]
  },
  {
   "cell_type": "markdown",
   "metadata": {},
   "source": [
    "### What is a hashtable?\n",
    "\n",
    "An object is hashable if it has a hash value which never changes during its lifetime (it needs a `__hash__()` method), and can be compared to other objects (it needs an `__eq__()` method). Hashable objects which compare equal must have the same hash value."
   ]
  },
  {
   "cell_type": "code",
   "execution_count": 15,
   "metadata": {},
   "outputs": [
    {
     "data": {
      "text/plain": [
       "True"
      ]
     },
     "execution_count": 15,
     "metadata": {},
     "output_type": "execute_result"
    }
   ],
   "source": [
    "str.__hash__(\"a\") == hash(\"a\")"
   ]
  },
  {
   "cell_type": "markdown",
   "metadata": {},
   "source": [
    "**Hashable types**\n",
    "\n",
    "- str\n",
    "- bytes\n",
    "- numeric types\n",
    "- frozenset\n",
    "- tuple (if its types are hashable)\n",
    "\n",
    "Mutable objects obviously cant be hashable. \n",
    "\n",
    "`dict`s can be created in several ways"
   ]
  },
  {
   "cell_type": "code",
   "execution_count": 21,
   "metadata": {},
   "outputs": [
    {
     "data": {
      "text/plain": [
       "True"
      ]
     },
     "execution_count": 21,
     "metadata": {},
     "output_type": "execute_result"
    }
   ],
   "source": [
    "a = dict(one=1,two=2,three=3)\n",
    "b = {\"one\":1,\"two\":2,\"three\":3}\n",
    "c = dict(zip([\"one\",\"two\",\"three\"],[1,2,3]))\n",
    "d = dict([(\"one\",1),(\"two\",2),(\"three\",3)])\n",
    "e = {\"three\":3,\"one\":1,\"two\":2,}\n",
    "a == b == c == d == e"
   ]
  },
  {
   "cell_type": "code",
   "execution_count": 24,
   "metadata": {},
   "outputs": [],
   "source": [
    "# Dict comprehensions\n",
    "d = [(\"one\",1),(\"two\",2),(\"three\",3)]\n",
    "d = {name:number for name,number in d }"
   ]
  },
  {
   "cell_type": "code",
   "execution_count": 39,
   "metadata": {},
   "outputs": [
    {
     "data": {
      "text/plain": [
       "{'one': 1, 'two': 2, 'three': 3, 'four': 4}"
      ]
     },
     "execution_count": 39,
     "metadata": {},
     "output_type": "execute_result"
    }
   ],
   "source": [
    "# API \n",
    "d = dict([(\"one\",1),(\"two\",2),(\"three\",3)])\n",
    "d.fromkeys(d.keys(),1)\n",
    "d.items()\n",
    "d.update([(\"four\",4)])\n",
    "d"
   ]
  },
  {
   "cell_type": "code",
   "execution_count": 51,
   "metadata": {},
   "outputs": [
    {
     "data": {
      "text/plain": [
       "{'one': 1, 'two': 2, 'three': 3, 'five': 5}"
      ]
     },
     "execution_count": 51,
     "metadata": {},
     "output_type": "execute_result"
    }
   ],
   "source": [
    "# Set Default\n",
    "d = dict([(\"one\",1),(\"two\",2),(\"three\",3)])\n",
    "d.setdefault(\"five\",5)\n",
    "d"
   ]
  }
 ],
 "metadata": {
  "kernelspec": {
   "display_name": "Python 3",
   "language": "python",
   "name": "python3"
  },
  "language_info": {
   "codemirror_mode": {
    "name": "ipython",
    "version": 3
   },
   "file_extension": ".py",
   "mimetype": "text/x-python",
   "name": "python",
   "nbconvert_exporter": "python",
   "pygments_lexer": "ipython3",
   "version": "3.6.9"
  }
 },
 "nbformat": 4,
 "nbformat_minor": 4
}
