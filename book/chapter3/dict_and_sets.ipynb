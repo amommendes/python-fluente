{
 "cells": [
  {
   "cell_type": "markdown",
   "metadata": {},
   "source": [
    "# Dicts and Sets\n",
    "\n",
    "Both are implemented with hash tables.\n",
    "Dicts are widespread in python implementation. See the str below:"
   ]
  },
  {
   "cell_type": "code",
   "execution_count": 2,
   "metadata": {},
   "outputs": [
    {
     "data": {
      "text/plain": [
       "mappingproxy({'__repr__': <slot wrapper '__repr__' of 'str' objects>,\n",
       "              '__hash__': <slot wrapper '__hash__' of 'str' objects>,\n",
       "              '__str__': <slot wrapper '__str__' of 'str' objects>,\n",
       "              '__getattribute__': <slot wrapper '__getattribute__' of 'str' objects>,\n",
       "              '__lt__': <slot wrapper '__lt__' of 'str' objects>,\n",
       "              '__le__': <slot wrapper '__le__' of 'str' objects>,\n",
       "              '__eq__': <slot wrapper '__eq__' of 'str' objects>,\n",
       "              '__ne__': <slot wrapper '__ne__' of 'str' objects>,\n",
       "              '__gt__': <slot wrapper '__gt__' of 'str' objects>,\n",
       "              '__ge__': <slot wrapper '__ge__' of 'str' objects>,\n",
       "              '__iter__': <slot wrapper '__iter__' of 'str' objects>,\n",
       "              '__mod__': <slot wrapper '__mod__' of 'str' objects>,\n",
       "              '__rmod__': <slot wrapper '__rmod__' of 'str' objects>,\n",
       "              '__len__': <slot wrapper '__len__' of 'str' objects>,\n",
       "              '__getitem__': <slot wrapper '__getitem__' of 'str' objects>,\n",
       "              '__add__': <slot wrapper '__add__' of 'str' objects>,\n",
       "              '__mul__': <slot wrapper '__mul__' of 'str' objects>,\n",
       "              '__rmul__': <slot wrapper '__rmul__' of 'str' objects>,\n",
       "              '__contains__': <slot wrapper '__contains__' of 'str' objects>,\n",
       "              '__new__': <function str.__new__(*args, **kwargs)>,\n",
       "              'encode': <method 'encode' of 'str' objects>,\n",
       "              'replace': <method 'replace' of 'str' objects>,\n",
       "              'split': <method 'split' of 'str' objects>,\n",
       "              'rsplit': <method 'rsplit' of 'str' objects>,\n",
       "              'join': <method 'join' of 'str' objects>,\n",
       "              'capitalize': <method 'capitalize' of 'str' objects>,\n",
       "              'casefold': <method 'casefold' of 'str' objects>,\n",
       "              'title': <method 'title' of 'str' objects>,\n",
       "              'center': <method 'center' of 'str' objects>,\n",
       "              'count': <method 'count' of 'str' objects>,\n",
       "              'expandtabs': <method 'expandtabs' of 'str' objects>,\n",
       "              'find': <method 'find' of 'str' objects>,\n",
       "              'partition': <method 'partition' of 'str' objects>,\n",
       "              'index': <method 'index' of 'str' objects>,\n",
       "              'ljust': <method 'ljust' of 'str' objects>,\n",
       "              'lower': <method 'lower' of 'str' objects>,\n",
       "              'lstrip': <method 'lstrip' of 'str' objects>,\n",
       "              'rfind': <method 'rfind' of 'str' objects>,\n",
       "              'rindex': <method 'rindex' of 'str' objects>,\n",
       "              'rjust': <method 'rjust' of 'str' objects>,\n",
       "              'rstrip': <method 'rstrip' of 'str' objects>,\n",
       "              'rpartition': <method 'rpartition' of 'str' objects>,\n",
       "              'splitlines': <method 'splitlines' of 'str' objects>,\n",
       "              'strip': <method 'strip' of 'str' objects>,\n",
       "              'swapcase': <method 'swapcase' of 'str' objects>,\n",
       "              'translate': <method 'translate' of 'str' objects>,\n",
       "              'upper': <method 'upper' of 'str' objects>,\n",
       "              'startswith': <method 'startswith' of 'str' objects>,\n",
       "              'endswith': <method 'endswith' of 'str' objects>,\n",
       "              'islower': <method 'islower' of 'str' objects>,\n",
       "              'isupper': <method 'isupper' of 'str' objects>,\n",
       "              'istitle': <method 'istitle' of 'str' objects>,\n",
       "              'isspace': <method 'isspace' of 'str' objects>,\n",
       "              'isdecimal': <method 'isdecimal' of 'str' objects>,\n",
       "              'isdigit': <method 'isdigit' of 'str' objects>,\n",
       "              'isnumeric': <method 'isnumeric' of 'str' objects>,\n",
       "              'isalpha': <method 'isalpha' of 'str' objects>,\n",
       "              'isalnum': <method 'isalnum' of 'str' objects>,\n",
       "              'isidentifier': <method 'isidentifier' of 'str' objects>,\n",
       "              'isprintable': <method 'isprintable' of 'str' objects>,\n",
       "              'zfill': <method 'zfill' of 'str' objects>,\n",
       "              'format': <method 'format' of 'str' objects>,\n",
       "              'format_map': <method 'format_map' of 'str' objects>,\n",
       "              '__format__': <method '__format__' of 'str' objects>,\n",
       "              'maketrans': <staticmethod at 0x7f5f17a0c940>,\n",
       "              '__sizeof__': <method '__sizeof__' of 'str' objects>,\n",
       "              '__getnewargs__': <method '__getnewargs__' of 'str' objects>,\n",
       "              '__doc__': \"str(object='') -> str\\nstr(bytes_or_buffer[, encoding[, errors]]) -> str\\n\\nCreate a new string object from the given object. If encoding or\\nerrors is specified, then the object must expose a data buffer\\nthat will be decoded using the given encoding and error handler.\\nOtherwise, returns the result of object.__str__() (if defined)\\nor repr(object).\\nencoding defaults to sys.getdefaultencoding().\\nerrors defaults to 'strict'.\"})"
      ]
     },
     "execution_count": 2,
     "metadata": {},
     "output_type": "execute_result"
    }
   ],
   "source": [
    "str.__dict__"
   ]
  },
  {
   "cell_type": "markdown",
   "metadata": {},
   "source": [
    "### Generic types of mappings"
   ]
  },
  {
   "cell_type": "code",
   "execution_count": 9,
   "metadata": {},
   "outputs": [
    {
     "data": {
      "text/plain": [
       "True"
      ]
     },
     "execution_count": 9,
     "metadata": {},
     "output_type": "execute_result"
    }
   ],
   "source": [
    "from collections.abc import Mapping\n",
    "a  = {}\n",
    "isinstance(a,Mapping)"
   ]
  },
  {
   "cell_type": "markdown",
   "metadata": {},
   "source": [
    "### What is a hashtable?\n",
    "\n",
    "An object is hashable if it has a hash value which never changes during its lifetime (it needs a `__hash__()` method), and can be compared to other objects (it needs an `__eq__()` method). Hashable objects which compare equal must have the same hash value."
   ]
  },
  {
   "cell_type": "code",
   "execution_count": 15,
   "metadata": {},
   "outputs": [
    {
     "data": {
      "text/plain": [
       "True"
      ]
     },
     "execution_count": 15,
     "metadata": {},
     "output_type": "execute_result"
    }
   ],
   "source": [
    "str.__hash__(\"a\") == hash(\"a\")"
   ]
  },
  {
   "cell_type": "markdown",
   "metadata": {},
   "source": [
    "**Hashable types**\n",
    "\n",
    "- str\n",
    "- bytes\n",
    "- numeric types\n",
    "- frozenset\n",
    "- tuple (if its types are hashable)\n",
    "\n",
    "Mutable objects obviously cant be hashable. \n",
    "\n",
    "`dict`s can be created in several ways"
   ]
  },
  {
   "cell_type": "code",
   "execution_count": 21,
   "metadata": {},
   "outputs": [
    {
     "data": {
      "text/plain": [
       "True"
      ]
     },
     "execution_count": 21,
     "metadata": {},
     "output_type": "execute_result"
    }
   ],
   "source": [
    "a = dict(one=1,two=2,three=3)\n",
    "b = {\"one\":1,\"two\":2,\"three\":3}\n",
    "c = dict(zip([\"one\",\"two\",\"three\"],[1,2,3]))\n",
    "d = dict([(\"one\",1),(\"two\",2),(\"three\",3)])\n",
    "e = {\"three\":3,\"one\":1,\"two\":2,}\n",
    "a == b == c == d == e"
   ]
  },
  {
   "cell_type": "code",
   "execution_count": 24,
   "metadata": {},
   "outputs": [],
   "source": [
    "# Dict comprehensions\n",
    "d = [(\"one\",1),(\"two\",2),(\"three\",3)]\n",
    "d = {name:number for name,number in d }"
   ]
  },
  {
   "cell_type": "code",
   "execution_count": 39,
   "metadata": {},
   "outputs": [
    {
     "data": {
      "text/plain": [
       "{'one': 1, 'two': 2, 'three': 3, 'four': 4}"
      ]
     },
     "execution_count": 39,
     "metadata": {},
     "output_type": "execute_result"
    }
   ],
   "source": [
    "# API \n",
    "d = dict([(\"one\",1),(\"two\",2),(\"three\",3)])\n",
    "d.fromkeys(d.keys(),1)\n",
    "d.items()\n",
    "d.update([(\"four\",4)])\n",
    "d"
   ]
  },
  {
   "cell_type": "markdown",
   "metadata": {},
   "source": [
    "### Handling Missing Keys"
   ]
  },
  {
   "cell_type": "code",
   "execution_count": 4,
   "metadata": {},
   "outputs": [
    {
     "data": {
      "text/plain": [
       "{'one': 1, 'two': 2, 'three': 3, 'five': [5, 2]}"
      ]
     },
     "execution_count": 4,
     "metadata": {},
     "output_type": "execute_result"
    }
   ],
   "source": [
    "# Set Default\n",
    "# Ao inves de passar duas vezes para encontrar o index e entao depois atribuir valor a ele, setdefault faz isso em uma linha\n",
    "d = dict([(\"one\",1),(\"two\",2),(\"three\",3)])\n",
    "d.setdefault(\"five\",[5]).append(2)\n",
    "d"
   ]
  },
  {
   "cell_type": "code",
   "execution_count": 11,
   "metadata": {},
   "outputs": [
    {
     "data": {
      "text/plain": [
       "defaultdict(list, {'missing-key': [2]})"
      ]
     },
     "execution_count": 11,
     "metadata": {},
     "output_type": "execute_result"
    }
   ],
   "source": [
    "import collections\n",
    "\n",
    "d = collections.defaultdict(list)\n",
    "d[\"missing-key\"].append(2)\n",
    "d"
   ]
  },
  {
   "cell_type": "code",
   "execution_count": 29,
   "metadata": {},
   "outputs": [
    {
     "data": {
      "text/plain": [
       "defaultdict(<function date.today>, {'missing-key': datetime.date(2020, 4, 25)})"
      ]
     },
     "execution_count": 29,
     "metadata": {},
     "output_type": "execute_result"
    }
   ],
   "source": [
    "from datetime import date\n",
    "e = collections.defaultdict(date.today)\n",
    "e[\"missing-key\"]\n",
    "e"
   ]
  },
  {
   "cell_type": "markdown",
   "metadata": {},
   "source": [
    "### `__mising__` Method\n",
    "\n",
    "Esse método precisa falhar para indicar que chave existe e assim o `__getitem__` retornar default. No exemplo abaixo, quando a chave não existe e já é do tipo `str` então `__missing__` retorna uma `expection` o que faz o método `__getitem__` retornar o valor Default, caso contrário missing ficaria sendo chamada infinitamente.\n"
   ]
  },
  {
   "cell_type": "code",
   "execution_count": 30,
   "metadata": {},
   "outputs": [],
   "source": [
    "class StrKeyDict0(dict):\n",
    "    def __missing__(self, key):\n",
    "        if isinstance(key,str):\n",
    "            raise KeyError(key)\n",
    "        return self[str(key)]\n",
    "    \n",
    "    def get(self, key, default=None):\n",
    "        try:\n",
    "            return self[key]\n",
    "        except KeyError:\n",
    "            return default\n",
    "    def __contains__(self, key):\n",
    "        return key in self.keys() or str(key) in self.keys()\n",
    "    "
   ]
  },
  {
   "cell_type": "markdown",
   "metadata": {},
   "source": [
    "## Variações de `dict`"
   ]
  },
  {
   "cell_type": "markdown",
   "metadata": {},
   "source": [
    "\n",
    "`collections.OrderedDict` = ordena o dict na ordem de inserção das chaves\n",
    "\n",
    "`collections.ChainMap` = armazena \"listas\" de dicts que podem ser pesquisados como se fossem um unico dict\n",
    "\n",
    "`collections.Counter` = Conta ocorrencias de chaves, muito bom para ver itens mais comuns\n",
    "\n",
    "`collections.UserDict` = superclass para ser herdada em dicts de usuários com métodos já implementados, como get.\n",
    "\n",
    "`types.MappingProxyType` = uma view imutável de um `dict` "
   ]
  },
  {
   "cell_type": "code",
   "execution_count": 33,
   "metadata": {},
   "outputs": [
    {
     "ename": "TypeError",
     "evalue": "'mappingproxy' object does not support item assignment",
     "output_type": "error",
     "traceback": [
      "\u001b[0;31m---------------------------------------------------------------------------\u001b[0m",
      "\u001b[0;31mTypeError\u001b[0m                                 Traceback (most recent call last)",
      "\u001b[0;32m<ipython-input-33-068811a5b698>\u001b[0m in \u001b[0;36m<module>\u001b[0;34m\u001b[0m\n\u001b[1;32m      8\u001b[0m \u001b[0md_proxy\u001b[0m\u001b[0;34m[\u001b[0m\u001b[0;36m1\u001b[0m\u001b[0;34m]\u001b[0m\u001b[0;34m\u001b[0m\u001b[0;34m\u001b[0m\u001b[0m\n\u001b[1;32m      9\u001b[0m \u001b[0;34m\u001b[0m\u001b[0m\n\u001b[0;32m---> 10\u001b[0;31m \u001b[0md_proxy\u001b[0m\u001b[0;34m[\u001b[0m\u001b[0;36m2\u001b[0m\u001b[0;34m]\u001b[0m \u001b[0;34m=\u001b[0m \u001b[0;34m\"B\"\u001b[0m\u001b[0;34m\u001b[0m\u001b[0;34m\u001b[0m\u001b[0m\n\u001b[0m",
      "\u001b[0;31mTypeError\u001b[0m: 'mappingproxy' object does not support item assignment"
     ]
    }
   ],
   "source": [
    "## Mapping proxies (mapeamentos imutáveis)\n",
    "\n",
    "from types import MappingProxyType\n",
    "\n",
    "d = {1:'A'}\n",
    "d_proxy = MappingProxyType(d)\n",
    "d_proxy\n",
    "d_proxy[1]\n",
    "\n",
    "d_proxy[2] = \"B\"\n"
   ]
  },
  {
   "cell_type": "markdown",
   "metadata": {},
   "source": [
    "## Conjuntos (sets)\n",
    "\n",
    "Exemplo mais utilizado é o uso como deduplicador de items de uma lista, por exemplo. Mas vai além disso.\n",
    "\n",
    "Elementos dentro de um `set` precisam ser hashables. \n",
    "\n",
    "Um `set` não é hashable, mas um `frozenset` é. \n"
   ]
  },
  {
   "cell_type": "code",
   "execution_count": 38,
   "metadata": {},
   "outputs": [
    {
     "name": "stdout",
     "output_type": "stream",
     "text": [
      "{1, 2, 3, 4}\n",
      "{2}\n",
      "{1}\n",
      "{3, 4}\n"
     ]
    }
   ],
   "source": [
    "a = set([1,2])\n",
    "b = set([2,3,4])\n",
    "print(a|b)\n",
    "print(a&b)\n",
    "print(a-b)\n",
    "print(b-a)\n"
   ]
  },
  {
   "cell_type": "markdown",
   "metadata": {},
   "source": [
    "__É mais rápido criar um `set` com uma sintaxe literal do que com lista__. Veja a \"construção\" do bytecode com as duas formas. (dis significa disassembler)"
   ]
  },
  {
   "cell_type": "code",
   "execution_count": 45,
   "metadata": {},
   "outputs": [
    {
     "name": "stdout",
     "output_type": "stream",
     "text": [
      "<class 'set'>\n",
      "  1           0 LOAD_CONST               0 (1)\n",
      "              2 BUILD_SET                1\n",
      "              4 RETURN_VALUE\n",
      "None\n",
      "  1           0 LOAD_NAME                0 (set)\n",
      "              2 LOAD_CONST               0 (1)\n",
      "              4 BUILD_LIST               1\n",
      "              6 CALL_FUNCTION            1\n",
      "              8 RETURN_VALUE\n",
      "None\n"
     ]
    }
   ],
   "source": [
    "s = {1,2} # é mais rapído criar um set assim, do que passar um lista\n",
    "print(type(s))\n",
    "from dis import dis\n",
    "\n",
    "print(dis('{1}'))\n",
    "print(dis('set([1])'))"
   ]
  },
  {
   "cell_type": "markdown",
   "metadata": {},
   "source": [
    "### Set Comprehensions"
   ]
  },
  {
   "cell_type": "code",
   "execution_count": 56,
   "metadata": {},
   "outputs": [
    {
     "name": "stdout",
     "output_type": "stream",
     "text": [
      "{'÷', '¬', '§', '$', '¶', '¤', '£', '±', '+', '¥', '®', '¢', '%', '×', '=', '©', '<', 'µ', '°', '#', '>'}\n"
     ]
    },
    {
     "data": {
      "text/plain": [
       "'LATIN CAPITAL LETTER A'"
      ]
     },
     "execution_count": 56,
     "metadata": {},
     "output_type": "execute_result"
    }
   ],
   "source": [
    "from unicodedata import name\n",
    "\n",
    "print({chr(i) for i in range(32,256) if 'SIGN' in name(chr(i), '')})\n",
    "\n",
    "name('A')"
   ]
  },
  {
   "cell_type": "markdown",
   "metadata": {},
   "source": [
    "## Operações de Conjuntos\n",
    "\n",
    "Existem operações próprias da teoria de conjuntos e métodos convenientes para lidar com `set`s"
   ]
  },
  {
   "cell_type": "code",
   "execution_count": 75,
   "metadata": {},
   "outputs": [
    {
     "name": "stdout",
     "output_type": "stream",
     "text": [
      "True\n",
      "True\n",
      "True\n",
      "True\n"
     ]
    }
   ],
   "source": [
    "print({1,2,3,4}.difference([2,3,4]) == {1,2,3,4} - {2,3,4})\n",
    "\n",
    "print(2 in {2,3,4,5}) # elemento em set\n",
    "\n",
    "print({2,3,4,5} <= {2,3,4,5}) #subconjunto\n",
    "\n",
    "\n",
    "print({2,3,4} < {2,3,4,5}) #subconjunto\n"
   ]
  },
  {
   "cell_type": "code",
   "execution_count": 86,
   "metadata": {},
   "outputs": [
    {
     "name": "stdout",
     "output_type": "stream",
     "text": [
      "{1, 2, 3, 4, 5}\n",
      "set()\n",
      "{2, 3, 4}\n"
     ]
    }
   ],
   "source": [
    "s = {1,2,3,4}\n",
    "s.add(5)\n",
    "print(s)\n",
    "\n",
    "s.clear()\n",
    "print(s)\n",
    "s = {1,2,3,4}\n",
    "s.copy()\n",
    "s.discard(1)\n",
    "print(s)"
   ]
  },
  {
   "cell_type": "markdown",
   "metadata": {},
   "source": [
    "## Hash tables e o funcionamento interno de `dict` e `set`"
   ]
  },
  {
   "cell_type": "code",
   "execution_count": 95,
   "metadata": {},
   "outputs": [
    {
     "name": "stdout",
     "output_type": "stream",
     "text": [
      "122323223\n",
      "122323223\n",
      "True\n"
     ]
    }
   ],
   "source": [
    "print(hash(122323223)) # Valor de hash de um int é ele mesmo\n",
    "print(hash(122323223.000))\n",
    "print((1 == 1.0) and (hash(1) == hash(1.0)))"
   ]
  },
  {
   "attachments": {
    "image.png": {
     "image/png": "[encoded data removed]"
    }
   },
   "cell_type": "markdown",
   "metadata": {},
   "source": [
    "### Algoritmos de tabela hash\n",
    "\n",
    "\n",
    "To fetch the value at `my_dict[search_key]` , Python calls `hash(search_key)` to obtain the hash value of `search_key` and uses the least significant bits of that number as an offset to look up a bucket in the hash table (the number of bits used depends on the current size of the table). If the found bucket is empty, `KeyError` is raised. Otherwise, the found bucket has an item — a `found_key:found_value` pair — and then Python checks whether `search_key == found_key` . If they match, that was the item sought: `found_value` is returned.\n",
    "\n",
    "![image.png](attachment:image.png)"
   ]
  },
  {
   "cell_type": "markdown",
   "metadata": {},
   "source": [
    "However, if search_key and found_key do not match, this is a hash collision. This hap‐\n",
    "pens because a hash function maps arbitrary objects to a small number of bits, and —\n",
    "in addition — the hash table is indexed with a subset of those bits. To resolve the colli‐\n",
    "sion, the algorithm then takes different bits in the hash, massages them in a particular\n",
    "way and uses the result as an offset to look up a different bucket 8 . If that is empty,\n",
    "KeyError is raised; if not, either the keys match and the item value is returned, or the\n",
    "collision resolution process is repeated. See Figure 3-3 for a diagram of this algorithm.\n",
    "\n",
    "## Consequências práticas de como os dicionários funcionam\n",
    "\n",
    "- Chaves precisam ser hashable\n",
    "- Overhead de memória\n",
    "- Busca por chaves é muito rápida\n",
    "- Ordem das chaves depende da ordem de inserção\n",
    "\n",
    "```python\n",
    "DIAL_CODES = [\n",
    "        (86, 'China'),\n",
    "        (91, 'India'),\n",
    "        (1, 'United States'),\n",
    "        (62, 'Indonesia'),\n",
    "        (55, 'Brazil'),\n",
    "        (92, 'Pakistan'),\n",
    "        (880, 'Bangladesh'),\n",
    "        (234, 'Nigeria'),\n",
    "        (7, 'Russia'),\n",
    "        (81, 'Japan'),\n",
    "    ]\n",
    "\n",
    "d1 = dict(DIAL_CODES)  # <1>\n",
    "print('d1:', d1.keys())\n",
    "d2 = dict(sorted(DIAL_CODES))  # <2>\n",
    "print('d2:', d2.keys())\n",
    "d3 = dict(sorted(DIAL_CODES, key=lambda x:x[1]))  # <3>\n",
    "print('d3:', d3.keys())\n",
    "assert d1 == d2 and d2 == d3  # <4>\n",
    ">>> d1: dict_keys([86, 91, 1, 62, 55, 92, 880, 234, 7, 81])\n",
    ">>> d2: dict_keys([1, 7, 55, 62, 81, 86, 91, 92, 234, 880])\n",
    ">>> d3: dict_keys([880, 55, 86, 91, 62, 81, 234, 92, 7, 1])\n",
    "    \n",
    "```\n",
    "\n",
    "- Adicionar itens a um dicionário pode alterar a ordem das chaves"
   ]
  }
 ],
 "metadata": {
  "kernelspec": {
   "display_name": "Python 3",
   "language": "python",
   "name": "python3"
  },
  "language_info": {
   "codemirror_mode": {
    "name": "ipython",
    "version": 3
   },
   "file_extension": ".py",
   "mimetype": "text/x-python",
   "name": "python",
   "nbconvert_exporter": "python",
   "pygments_lexer": "ipython3",
   "version": "3.6.9"
  }
 },
 "nbformat": 4,
 "nbformat_minor": 4
}
